{
 "cells": [
  {
   "cell_type": "code",
   "execution_count": 4,
   "metadata": {},
   "outputs": [],
   "source": [
    "import numpy as np\n",
    "import pandas as pd\n",
    "\n",
    "from collections import defaultdict as defd\n",
    "\n",
    "import math,time\n",
    "from random import choice\n",
    "from scipy.spatial.transform import Rotation\n",
    "import matplotlib.pyplot as plt\n",
    "%matplotlib inline"
   ]
  },
  {
   "cell_type": "code",
   "execution_count": 5,
   "metadata": {},
   "outputs": [],
   "source": [
    "from scipy import signal\n",
    "from scipy.ndimage import uniform_filter1d\n",
    "from scipy.interpolate import interp1d"
   ]
  },
  {
   "cell_type": "code",
   "execution_count": 6,
   "metadata": {},
   "outputs": [],
   "source": [
    "from sklearn.linear_model import LinearRegression as OLS\n",
    "from sklearn.decomposition import PCA\n",
    "\n",
    "# XGBoost Python Wrapper for SKLearn: \n",
    "# https://xgboost.readthedocs.io/en/latest/python/python_api.html#module-xgboost.sklearn\n",
    "#import xgboost as xgb \n",
    "#from xgboost import XGBRegressor  as XGR\n",
    "#from xgboost import XGBClassifier as XGC "
   ]
  },
  {
   "cell_type": "code",
   "execution_count": 7,
   "metadata": {},
   "outputs": [],
   "source": [
    "#############################################################################\n",
    "#############################################################################"
   ]
  },
  {
   "cell_type": "code",
   "execution_count": 8,
   "metadata": {},
   "outputs": [],
   "source": [
    "# Interpolation Model: \n",
    "class InterpModel:\n",
    "    def __init__(self):  \n",
    "        pass\n",
    "    \n",
    "    def fit(self,x_train,y_train): \n",
    "        x = np.array(x_train)\n",
    "        y = np.array(y_train)\n",
    "\n",
    "        if x.shape == (len(x),1): x = x.reshape([len(x),]) \n",
    "        if y.shape == (len(y),1): y = y.reshape([len(y),]) \n",
    "              \n",
    "        self.lin_predict = interp1d(x,y)\n",
    "        #self.cub_predict = interp1d(x,y,kind='cubic') \n",
    "        self.xmin = x.min()\n",
    "        self.xmax = x.max() \n",
    "        \n",
    "    def predict(self,x_test,kind='linear'):\n",
    "        x = np.array(x_test) \n",
    "        if x.shape == (len(x),1): x = x.reshape([len(x),]) \n",
    "        x2 = np.clip(x,self.xmin,self.xmax)\n",
    "        if kind=='linear': preds = self.lin_predict(x2)\n",
    "        #if kind=='cubic':  preds = self.cub_predict(x2) \n",
    "        return preds \n",
    "\n",
    "\n",
    "class QuantileModel:\n",
    "    def __init__(self):\n",
    "        self.v2q_model = InterpModel()\n",
    "        self.q2v_model = InterpModel()\n",
    "    \n",
    "    def fit(self,arr): \n",
    "        ys = np.sort(np.array(arr))\n",
    "        xs = np.linspace(0.0,1.0,len(ys))\n",
    "        self.v2q_model.fit(ys,xs)\n",
    "        self.q2v_model.fit(xs,ys) \n",
    "        \n",
    "    def v2q(self,value):\n",
    "        return self.v2q_model.predict(value)\n",
    "    \n",
    "    def q2v(self,quant):\n",
    "        return self.q2v_model.predict(quant) \n",
    "    \n",
    "    def predict(self,value):\n",
    "        return self.v2q(value)\n",
    "        \n",
    "        "
   ]
  },
  {
   "cell_type": "code",
   "execution_count": 9,
   "metadata": {},
   "outputs": [],
   "source": [
    "#############################################################################\n",
    "#############################################################################"
   ]
  },
  {
   "cell_type": "code",
   "execution_count": 10,
   "metadata": {},
   "outputs": [],
   "source": [
    "# Simulation Variables:\n",
    "N_DIMS  = 6\n",
    "N_USERS = 1000\n",
    "N_ITEMS = 500 \n",
    "MIN_REV = 10\n",
    "MAX_REV = 60"
   ]
  },
  {
   "cell_type": "code",
   "execution_count": 11,
   "metadata": {},
   "outputs": [
    {
     "data": {
      "text/plain": [
       "array([[ 9.64581553,  8.50794684, -1.77934813],\n",
       "       [ 5.15000887, -1.11686232,  5.66528626]])"
      ]
     },
     "execution_count": 11,
     "metadata": {},
     "output_type": "execute_result"
    }
   ],
   "source": [
    "np.random.uniform(-9.99,+9.99,(2,3)) "
   ]
  },
  {
   "cell_type": "code",
   "execution_count": 12,
   "metadata": {},
   "outputs": [],
   "source": [
    "UserPrefMatrix = np.random.uniform(-9.99,+9.99,(N_USERS,N_DIMS))\n",
    "UserPrefMatrix = np.around(UserPrefMatrix,7)\n",
    "\n",
    "UserDF = pd.DataFrame(UserPrefMatrix) \n",
    "DimCols = [\"D\"+str(a) for a in range(1,N_DIMS+1)]\n",
    "UserDF.columns = DimCols\n",
    "\n",
    "UserIDs = np.arange(1,N_USERS+1) \n",
    "UserIDs = [\"U\"+(('00000'+str(a))[-4:]) for a in UserIDs]\n",
    "UserDF['UID'] = UserIDs\n",
    "old_cols = list(UserDF.columns)\n",
    "new_cols = [old_cols[-1]]+old_cols[:-1]\n",
    "UserDF = UserDF[new_cols] \n",
    "\n",
    "user2vec = {} \n",
    "for r in UserDF.values:\n",
    "    uid = r[0]\n",
    "    vec = r[1:] \n",
    "    user2vec[uid] = vec"
   ]
  },
  {
   "cell_type": "code",
   "execution_count": 13,
   "metadata": {},
   "outputs": [],
   "source": [
    "ItemAttrMatrix = np.random.uniform(-9.99,+9.99,(N_ITEMS,N_DIMS))\n",
    "ItemAttrMatrix = np.around(ItemAttrMatrix,7)\n",
    "\n",
    "ItemDF = pd.DataFrame(ItemAttrMatrix) \n",
    "DimCols = [\"D\"+str(a) for a in range(1,N_DIMS+1)]\n",
    "ItemDF.columns = DimCols\n",
    "\n",
    "ItemIDs = np.arange(1,N_ITEMS+1) \n",
    "ItemIDs = [\"I\"+(('00000'+str(a))[-4:]) for a in ItemIDs]\n",
    "ItemDF['IID'] = ItemIDs\n",
    "old_cols = list(ItemDF.columns)\n",
    "new_cols = [old_cols[-1]]+old_cols[:-1]\n",
    "ItemDF = ItemDF[new_cols] \n",
    "\n",
    "item2vec = {} \n",
    "for r in ItemDF.values:\n",
    "    iid = r[0]\n",
    "    vec = r[1:] \n",
    "    item2vec[iid] = vec"
   ]
  },
  {
   "cell_type": "code",
   "execution_count": 14,
   "metadata": {},
   "outputs": [
    {
     "data": {
      "text/plain": [
       "array([14.318853013091415], dtype=object)"
      ]
     },
     "execution_count": 14,
     "metadata": {},
     "output_type": "execute_result"
    }
   ],
   "source": [
    "#def VecDist(vec1,vec2):\n",
    "#    return np.absolute(np.array(vec1)-np.array(vec2)).mean() \n",
    "\n",
    "def VecDist(v1,v2):\n",
    "    return np.abs((v1-v2)**2).sum(1)**0.5\n",
    "\n",
    "vec1 = user2vec['U0001']\n",
    "vec2 = item2vec['I0001'] \n",
    "\n",
    "vec1 = np.array([vec1])\n",
    "vec2 = np.array([vec2]) \n",
    "\n",
    "VecDist(vec1,vec2)  "
   ]
  },
  {
   "cell_type": "code",
   "execution_count": 15,
   "metadata": {},
   "outputs": [
    {
     "name": "stdout",
     "output_type": "stream",
     "text": [
      "(1, 6)\n",
      "(1, 6)\n"
     ]
    }
   ],
   "source": [
    "print(vec1.shape)\n",
    "print(vec2.shape)"
   ]
  },
  {
   "cell_type": "code",
   "execution_count": 16,
   "metadata": {},
   "outputs": [],
   "source": [
    "#############################################################################\n",
    "#############################################################################"
   ]
  },
  {
   "cell_type": "code",
   "execution_count": 17,
   "metadata": {},
   "outputs": [],
   "source": [
    "rows = []\n",
    "for uid in UserIDs:\n",
    "    uvec = user2vec[uid]\n",
    "    uvec = np.array([uvec])\n",
    "    \n",
    "    n_revs = np.random.randint(MIN_REV,MAX_REV)\n",
    "    items = [choice(ItemIDs) for _ in range(n_revs)] \n",
    "    items = sorted(set(items)) \n",
    "    for iid in items:\n",
    "        ivec = item2vec[iid]\n",
    "        ivec = np.array([ivec])\n",
    "        \n",
    "        dist = VecDist(uvec,ivec)[0] \n",
    "        rows.append([uid,iid,dist])\n",
    "    \n",
    "RevDF = pd.DataFrame(rows) \n",
    "RevDF.columns = ['UID','IID','DIST'] "
   ]
  },
  {
   "cell_type": "code",
   "execution_count": 18,
   "metadata": {},
   "outputs": [],
   "source": [
    "qm = QuantileModel()\n",
    "qm.fit(RevDF['DIST'].values) \n",
    "dper = qm.v2q(RevDF['DIST'].values) \n",
    "RevDF['DPER'] = dper\n",
    "RevDF['AFFIN'] = (1-RevDF['DPER'])**2\n",
    "RevDF['RATING'] = np.around((RevDF['AFFIN']*9)+1).astype(int) "
   ]
  },
  {
   "cell_type": "code",
   "execution_count": 19,
   "metadata": {},
   "outputs": [],
   "source": [
    "#############################################################################\n",
    "#############################################################################"
   ]
  },
  {
   "cell_type": "code",
   "execution_count": 20,
   "metadata": {},
   "outputs": [],
   "source": [
    "rand_arr = np.random.uniform(0,1,len(RevDF))*0.7\n",
    "TF = rand_arr < RevDF['AFFIN'].values \n",
    "RevDF['SALE'] = TF.astype(int)"
   ]
  },
  {
   "cell_type": "code",
   "execution_count": 21,
   "metadata": {},
   "outputs": [
    {
     "data": {
      "text/plain": [
       "0.44572274058640576"
      ]
     },
     "execution_count": 21,
     "metadata": {},
     "output_type": "execute_result"
    }
   ],
   "source": [
    "RevDF['SALE'].mean()"
   ]
  },
  {
   "cell_type": "code",
   "execution_count": 22,
   "metadata": {},
   "outputs": [
    {
     "data": {
      "text/plain": [
       "14.761"
      ]
     },
     "execution_count": 22,
     "metadata": {},
     "output_type": "execute_result"
    }
   ],
   "source": [
    "RevDF['SALE'].sum() / RevDF['UID'].nunique() "
   ]
  },
  {
   "cell_type": "code",
   "execution_count": 23,
   "metadata": {},
   "outputs": [],
   "source": [
    "#RevDF.head(10)"
   ]
  },
  {
   "cell_type": "code",
   "execution_count": 24,
   "metadata": {},
   "outputs": [
    {
     "data": {
      "text/plain": [
       "Index(['UID', 'IID', 'DIST', 'DPER', 'AFFIN', 'RATING', 'SALE'], dtype='object')"
      ]
     },
     "execution_count": 24,
     "metadata": {},
     "output_type": "execute_result"
    }
   ],
   "source": [
    "RevDF.columns"
   ]
  },
  {
   "cell_type": "code",
   "execution_count": 25,
   "metadata": {},
   "outputs": [],
   "source": [
    "#cols = ['UID', 'IID','RATING']\n",
    "#RevDF2 = RevDF[cols].copy() "
   ]
  },
  {
   "cell_type": "code",
   "execution_count": 26,
   "metadata": {},
   "outputs": [],
   "source": [
    "#RevDF2.head(10) "
   ]
  },
  {
   "cell_type": "code",
   "execution_count": 27,
   "metadata": {},
   "outputs": [],
   "source": [
    "Sales = RevDF[RevDF['SALE']==1].copy() \n",
    "Sales = RevDF.copy() "
   ]
  },
  {
   "cell_type": "code",
   "execution_count": 28,
   "metadata": {},
   "outputs": [
    {
     "data": {
      "text/html": [
       "<div>\n",
       "<style scoped>\n",
       "    .dataframe tbody tr th:only-of-type {\n",
       "        vertical-align: middle;\n",
       "    }\n",
       "\n",
       "    .dataframe tbody tr th {\n",
       "        vertical-align: top;\n",
       "    }\n",
       "\n",
       "    .dataframe thead th {\n",
       "        text-align: right;\n",
       "    }\n",
       "</style>\n",
       "<table border=\"1\" class=\"dataframe\">\n",
       "  <thead>\n",
       "    <tr style=\"text-align: right;\">\n",
       "      <th></th>\n",
       "      <th>UID</th>\n",
       "      <th>IID</th>\n",
       "      <th>DIST</th>\n",
       "      <th>DPER</th>\n",
       "      <th>AFFIN</th>\n",
       "      <th>RATING</th>\n",
       "      <th>SALE</th>\n",
       "    </tr>\n",
       "  </thead>\n",
       "  <tbody>\n",
       "    <tr>\n",
       "      <th>0</th>\n",
       "      <td>U0001</td>\n",
       "      <td>I0005</td>\n",
       "      <td>14.853480</td>\n",
       "      <td>0.188489</td>\n",
       "      <td>0.658550</td>\n",
       "      <td>7</td>\n",
       "      <td>1</td>\n",
       "    </tr>\n",
       "    <tr>\n",
       "      <th>1</th>\n",
       "      <td>U0001</td>\n",
       "      <td>I0021</td>\n",
       "      <td>31.931170</td>\n",
       "      <td>0.996678</td>\n",
       "      <td>0.000011</td>\n",
       "      <td>1</td>\n",
       "      <td>0</td>\n",
       "    </tr>\n",
       "    <tr>\n",
       "      <th>2</th>\n",
       "      <td>U0001</td>\n",
       "      <td>I0034</td>\n",
       "      <td>22.792512</td>\n",
       "      <td>0.752114</td>\n",
       "      <td>0.061448</td>\n",
       "      <td>2</td>\n",
       "      <td>0</td>\n",
       "    </tr>\n",
       "    <tr>\n",
       "      <th>3</th>\n",
       "      <td>U0001</td>\n",
       "      <td>I0049</td>\n",
       "      <td>20.146641</td>\n",
       "      <td>0.558491</td>\n",
       "      <td>0.194930</td>\n",
       "      <td>3</td>\n",
       "      <td>0</td>\n",
       "    </tr>\n",
       "    <tr>\n",
       "      <th>4</th>\n",
       "      <td>U0001</td>\n",
       "      <td>I0062</td>\n",
       "      <td>10.504776</td>\n",
       "      <td>0.038682</td>\n",
       "      <td>0.924132</td>\n",
       "      <td>9</td>\n",
       "      <td>1</td>\n",
       "    </tr>\n",
       "    <tr>\n",
       "      <th>...</th>\n",
       "      <td>...</td>\n",
       "      <td>...</td>\n",
       "      <td>...</td>\n",
       "      <td>...</td>\n",
       "      <td>...</td>\n",
       "      <td>...</td>\n",
       "      <td>...</td>\n",
       "    </tr>\n",
       "    <tr>\n",
       "      <th>33112</th>\n",
       "      <td>U1000</td>\n",
       "      <td>I0468</td>\n",
       "      <td>20.148129</td>\n",
       "      <td>0.558552</td>\n",
       "      <td>0.194877</td>\n",
       "      <td>3</td>\n",
       "      <td>0</td>\n",
       "    </tr>\n",
       "    <tr>\n",
       "      <th>33113</th>\n",
       "      <td>U1000</td>\n",
       "      <td>I0475</td>\n",
       "      <td>28.704105</td>\n",
       "      <td>0.974906</td>\n",
       "      <td>0.000630</td>\n",
       "      <td>1</td>\n",
       "      <td>0</td>\n",
       "    </tr>\n",
       "    <tr>\n",
       "      <th>33114</th>\n",
       "      <td>U1000</td>\n",
       "      <td>I0482</td>\n",
       "      <td>25.209374</td>\n",
       "      <td>0.882655</td>\n",
       "      <td>0.013770</td>\n",
       "      <td>1</td>\n",
       "      <td>0</td>\n",
       "    </tr>\n",
       "    <tr>\n",
       "      <th>33115</th>\n",
       "      <td>U1000</td>\n",
       "      <td>I0483</td>\n",
       "      <td>21.290781</td>\n",
       "      <td>0.646847</td>\n",
       "      <td>0.124717</td>\n",
       "      <td>2</td>\n",
       "      <td>0</td>\n",
       "    </tr>\n",
       "    <tr>\n",
       "      <th>33116</th>\n",
       "      <td>U1000</td>\n",
       "      <td>I0488</td>\n",
       "      <td>17.512568</td>\n",
       "      <td>0.355176</td>\n",
       "      <td>0.415798</td>\n",
       "      <td>5</td>\n",
       "      <td>1</td>\n",
       "    </tr>\n",
       "  </tbody>\n",
       "</table>\n",
       "<p>33117 rows × 7 columns</p>\n",
       "</div>"
      ],
      "text/plain": [
       "         UID    IID       DIST      DPER     AFFIN  RATING  SALE\n",
       "0      U0001  I0005  14.853480  0.188489  0.658550       7     1\n",
       "1      U0001  I0021  31.931170  0.996678  0.000011       1     0\n",
       "2      U0001  I0034  22.792512  0.752114  0.061448       2     0\n",
       "3      U0001  I0049  20.146641  0.558491  0.194930       3     0\n",
       "4      U0001  I0062  10.504776  0.038682  0.924132       9     1\n",
       "...      ...    ...        ...       ...       ...     ...   ...\n",
       "33112  U1000  I0468  20.148129  0.558552  0.194877       3     0\n",
       "33113  U1000  I0475  28.704105  0.974906  0.000630       1     0\n",
       "33114  U1000  I0482  25.209374  0.882655  0.013770       1     0\n",
       "33115  U1000  I0483  21.290781  0.646847  0.124717       2     0\n",
       "33116  U1000  I0488  17.512568  0.355176  0.415798       5     1\n",
       "\n",
       "[33117 rows x 7 columns]"
      ]
     },
     "execution_count": 28,
     "metadata": {},
     "output_type": "execute_result"
    }
   ],
   "source": [
    "Sales"
   ]
  },
  {
   "cell_type": "code",
   "execution_count": null,
   "metadata": {},
   "outputs": [],
   "source": [
    "# ['UID' ,'IID' ,'SALE']\n",
    "# ['ENT1','ENT2','SCORE'] "
   ]
  },
  {
   "cell_type": "code",
   "execution_count": 29,
   "metadata": {},
   "outputs": [],
   "source": [
    "#############################################################################\n",
    "#############################################################################\n",
    "#############################################################################"
   ]
  },
  {
   "cell_type": "code",
   "execution_count": 30,
   "metadata": {},
   "outputs": [],
   "source": [
    "#############################################################################\n",
    "#############################################################################"
   ]
  },
  {
   "cell_type": "code",
   "execution_count": 49,
   "metadata": {},
   "outputs": [
    {
     "name": "stdout",
     "output_type": "stream",
     "text": [
      "Fitting Begins.\n",
      "10 CMD: 1.5711105\n",
      "20 CMD: 1.013381\n",
      "30 CMD: 0.7147976\n",
      "40 CMD: 0.5173755\n",
      "50 CMD: 0.3746104\n",
      "60 CMD: 0.2729529\n",
      "70 CMD: 0.2044825\n",
      "80 CMD: 0.1597609\n",
      "90 CMD: 0.1299052\n",
      "100 CMD: 0.1090112\n",
      "Fitting Complete.\n"
     ]
    }
   ],
   "source": [
    "jvm = JVectorModel() \n",
    "DF = Sales[['UID' ,'IID' ,'SALE']]\n",
    "jvm.fit(DF)  "
   ]
  },
  {
   "cell_type": "code",
   "execution_count": 46,
   "metadata": {},
   "outputs": [
    {
     "data": {
      "text/html": [
       "<div>\n",
       "<style scoped>\n",
       "    .dataframe tbody tr th:only-of-type {\n",
       "        vertical-align: middle;\n",
       "    }\n",
       "\n",
       "    .dataframe tbody tr th {\n",
       "        vertical-align: top;\n",
       "    }\n",
       "\n",
       "    .dataframe thead th {\n",
       "        text-align: right;\n",
       "    }\n",
       "</style>\n",
       "<table border=\"1\" class=\"dataframe\">\n",
       "  <thead>\n",
       "    <tr style=\"text-align: right;\">\n",
       "      <th></th>\n",
       "      <th>UID</th>\n",
       "      <th>IID</th>\n",
       "      <th>SALE</th>\n",
       "    </tr>\n",
       "  </thead>\n",
       "  <tbody>\n",
       "    <tr>\n",
       "      <th>0</th>\n",
       "      <td>U0001</td>\n",
       "      <td>I0005</td>\n",
       "      <td>1</td>\n",
       "    </tr>\n",
       "    <tr>\n",
       "      <th>1</th>\n",
       "      <td>U0001</td>\n",
       "      <td>I0021</td>\n",
       "      <td>0</td>\n",
       "    </tr>\n",
       "    <tr>\n",
       "      <th>2</th>\n",
       "      <td>U0001</td>\n",
       "      <td>I0034</td>\n",
       "      <td>0</td>\n",
       "    </tr>\n",
       "    <tr>\n",
       "      <th>3</th>\n",
       "      <td>U0001</td>\n",
       "      <td>I0049</td>\n",
       "      <td>0</td>\n",
       "    </tr>\n",
       "    <tr>\n",
       "      <th>4</th>\n",
       "      <td>U0001</td>\n",
       "      <td>I0062</td>\n",
       "      <td>1</td>\n",
       "    </tr>\n",
       "    <tr>\n",
       "      <th>...</th>\n",
       "      <td>...</td>\n",
       "      <td>...</td>\n",
       "      <td>...</td>\n",
       "    </tr>\n",
       "    <tr>\n",
       "      <th>33112</th>\n",
       "      <td>U1000</td>\n",
       "      <td>I0468</td>\n",
       "      <td>0</td>\n",
       "    </tr>\n",
       "    <tr>\n",
       "      <th>33113</th>\n",
       "      <td>U1000</td>\n",
       "      <td>I0475</td>\n",
       "      <td>0</td>\n",
       "    </tr>\n",
       "    <tr>\n",
       "      <th>33114</th>\n",
       "      <td>U1000</td>\n",
       "      <td>I0482</td>\n",
       "      <td>0</td>\n",
       "    </tr>\n",
       "    <tr>\n",
       "      <th>33115</th>\n",
       "      <td>U1000</td>\n",
       "      <td>I0483</td>\n",
       "      <td>0</td>\n",
       "    </tr>\n",
       "    <tr>\n",
       "      <th>33116</th>\n",
       "      <td>U1000</td>\n",
       "      <td>I0488</td>\n",
       "      <td>1</td>\n",
       "    </tr>\n",
       "  </tbody>\n",
       "</table>\n",
       "<p>33117 rows × 3 columns</p>\n",
       "</div>"
      ],
      "text/plain": [
       "         UID    IID  SALE\n",
       "0      U0001  I0005     1\n",
       "1      U0001  I0021     0\n",
       "2      U0001  I0034     0\n",
       "3      U0001  I0049     0\n",
       "4      U0001  I0062     1\n",
       "...      ...    ...   ...\n",
       "33112  U1000  I0468     0\n",
       "33113  U1000  I0475     0\n",
       "33114  U1000  I0482     0\n",
       "33115  U1000  I0483     0\n",
       "33116  U1000  I0488     1\n",
       "\n",
       "[33117 rows x 3 columns]"
      ]
     },
     "execution_count": 46,
     "metadata": {},
     "output_type": "execute_result"
    }
   ],
   "source": [
    "DF"
   ]
  },
  {
   "cell_type": "code",
   "execution_count": 47,
   "metadata": {},
   "outputs": [
    {
     "data": {
      "text/plain": [
       "array([ 0.30208623, -0.12532243,  0.6585508 , -0.14540351,  0.08235703,\n",
       "        0.1378403 , -0.4722236 ,  1.03716554,  0.58542606,  1.30812333,\n",
       "        0.0965143 , -0.07121149,  0.19703156, -0.03555775, -0.78360666,\n",
       "        0.20875799, -0.58193859,  0.08948329,  0.04478507, -0.62416644,\n",
       "        0.89321894, -0.99301733,  0.08243   , -1.51189381,  0.30488161,\n",
       "        0.03147894, -0.86905832,  0.73368918, -0.18781901,  0.44960073])"
      ]
     },
     "execution_count": 47,
     "metadata": {},
     "output_type": "execute_result"
    }
   ],
   "source": [
    "jvm['U0001']"
   ]
  },
  {
   "cell_type": "code",
   "execution_count": null,
   "metadata": {},
   "outputs": [],
   "source": []
  },
  {
   "cell_type": "code",
   "execution_count": null,
   "metadata": {},
   "outputs": [],
   "source": []
  },
  {
   "cell_type": "code",
   "execution_count": null,
   "metadata": {},
   "outputs": [],
   "source": []
  },
  {
   "cell_type": "code",
   "execution_count": null,
   "metadata": {},
   "outputs": [],
   "source": []
  },
  {
   "cell_type": "code",
   "execution_count": 4,
   "metadata": {},
   "outputs": [],
   "source": [
    "x=1"
   ]
  },
  {
   "cell_type": "code",
   "execution_count": null,
   "metadata": {},
   "outputs": [],
   "source": []
  },
  {
   "cell_type": "code",
   "execution_count": null,
   "metadata": {},
   "outputs": [],
   "source": []
  },
  {
   "cell_type": "code",
   "execution_count": null,
   "metadata": {},
   "outputs": [],
   "source": []
  },
  {
   "cell_type": "code",
   "execution_count": null,
   "metadata": {},
   "outputs": [],
   "source": []
  },
  {
   "cell_type": "code",
   "execution_count": null,
   "metadata": {},
   "outputs": [],
   "source": []
  },
  {
   "cell_type": "code",
   "execution_count": null,
   "metadata": {},
   "outputs": [],
   "source": []
  },
  {
   "cell_type": "code",
   "execution_count": null,
   "metadata": {},
   "outputs": [],
   "source": []
  },
  {
   "cell_type": "code",
   "execution_count": null,
   "metadata": {},
   "outputs": [],
   "source": []
  },
  {
   "cell_type": "code",
   "execution_count": null,
   "metadata": {},
   "outputs": [],
   "source": []
  },
  {
   "cell_type": "code",
   "execution_count": null,
   "metadata": {},
   "outputs": [],
   "source": []
  },
  {
   "cell_type": "code",
   "execution_count": null,
   "metadata": {},
   "outputs": [],
   "source": []
  },
  {
   "cell_type": "code",
   "execution_count": null,
   "metadata": {},
   "outputs": [],
   "source": []
  }
 ],
 "metadata": {
  "kernelspec": {
   "display_name": "Python 3",
   "language": "python",
   "name": "python3"
  },
  "language_info": {
   "codemirror_mode": {
    "name": "ipython",
    "version": 3
   },
   "file_extension": ".py",
   "mimetype": "text/x-python",
   "name": "python",
   "nbconvert_exporter": "python",
   "pygments_lexer": "ipython3",
   "version": "3.8.8"
  }
 },
 "nbformat": 4,
 "nbformat_minor": 4
}
