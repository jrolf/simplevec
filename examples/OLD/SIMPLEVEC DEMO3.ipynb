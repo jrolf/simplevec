{
 "cells": [
  {
   "cell_type": "code",
   "execution_count": 1,
   "metadata": {},
   "outputs": [],
   "source": [
    "#pip install --upgrade simplevec"
   ]
  },
  {
   "cell_type": "code",
   "execution_count": 2,
   "metadata": {},
   "outputs": [
    {
     "name": "stdout",
     "output_type": "stream",
     "text": [
      "Name: simplevec\n",
      "Version: 0.0.2\n",
      "Summary: SimpleVec: Elementary Examples of Vector Modeling\n",
      "Home-page: https://github.com/jrolf/simplevec\n",
      "Author: James A. Rolfsen\n",
      "Author-email: james.rolfsen@think.dev\n",
      "License: UNKNOWN\n",
      "Location: /Users/jar/opt/anaconda3/lib/python3.8/site-packages\n",
      "Requires: statsmodels, gensim, sympy, scipy, scikit-learn, xgboost, pandas, numpy\n",
      "Required-by: \n",
      "Note: you may need to restart the kernel to use updated packages.\n"
     ]
    }
   ],
   "source": [
    "pip show simplevec"
   ]
  },
  {
   "cell_type": "code",
   "execution_count": 3,
   "metadata": {},
   "outputs": [],
   "source": [
    "from simplevec import * "
   ]
  },
  {
   "cell_type": "code",
   "execution_count": 20,
   "metadata": {},
   "outputs": [],
   "source": [
    "#https://stackoverflow.com/questions/57148357/attributeerror-module-gensim-utils-has-no-attribute-smart-open\n",
    "#pip install gensim==3.4.0\n",
    "\n",
    "from gensim.models import Word2Vec as word2vec "
   ]
  },
  {
   "cell_type": "code",
   "execution_count": 4,
   "metadata": {},
   "outputs": [],
   "source": [
    "#############################################################################\n",
    "############################################################################# "
   ]
  },
  {
   "cell_type": "code",
   "execution_count": 5,
   "metadata": {},
   "outputs": [],
   "source": [
    "#############################################################################\n",
    "#############################################################################"
   ]
  },
  {
   "cell_type": "code",
   "execution_count": 6,
   "metadata": {},
   "outputs": [
    {
     "data": {
      "text/plain": [
       "array([10.618184606768507], dtype=object)"
      ]
     },
     "execution_count": 6,
     "metadata": {},
     "output_type": "execute_result"
    }
   ],
   "source": [
    "vec1 = user2vec['U0001']\n",
    "vec2 = item2vec['I0001'] \n",
    "\n",
    "vec1 = np.array([vec1])\n",
    "vec2 = np.array([vec2]) \n",
    "\n",
    "VecDist(vec1,vec2)  "
   ]
  },
  {
   "cell_type": "code",
   "execution_count": 7,
   "metadata": {},
   "outputs": [
    {
     "name": "stdout",
     "output_type": "stream",
     "text": [
      "(1, 6)\n",
      "(1, 6)\n"
     ]
    }
   ],
   "source": [
    "print(vec1.shape)\n",
    "print(vec2.shape) "
   ]
  },
  {
   "cell_type": "code",
   "execution_count": 8,
   "metadata": {},
   "outputs": [],
   "source": [
    "#############################################################################\n",
    "#############################################################################"
   ]
  },
  {
   "cell_type": "code",
   "execution_count": 9,
   "metadata": {},
   "outputs": [],
   "source": [
    "#############################################################################\n",
    "#############################################################################"
   ]
  },
  {
   "cell_type": "code",
   "execution_count": 10,
   "metadata": {},
   "outputs": [
    {
     "data": {
      "text/plain": [
       "0.44360787660793755"
      ]
     },
     "execution_count": 10,
     "metadata": {},
     "output_type": "execute_result"
    }
   ],
   "source": [
    "RevDF['SALE'].mean()"
   ]
  },
  {
   "cell_type": "code",
   "execution_count": 11,
   "metadata": {},
   "outputs": [
    {
     "data": {
      "text/plain": [
       "14.553"
      ]
     },
     "execution_count": 11,
     "metadata": {},
     "output_type": "execute_result"
    }
   ],
   "source": [
    "RevDF['SALE'].sum() / RevDF['UID'].nunique() "
   ]
  },
  {
   "cell_type": "code",
   "execution_count": 12,
   "metadata": {},
   "outputs": [],
   "source": [
    "#RevDF.head(10)"
   ]
  },
  {
   "cell_type": "code",
   "execution_count": 13,
   "metadata": {},
   "outputs": [
    {
     "data": {
      "text/plain": [
       "Index(['UID', 'IID', 'DIST', 'DPER', 'AFFIN', 'RATING', 'SALE'], dtype='object')"
      ]
     },
     "execution_count": 13,
     "metadata": {},
     "output_type": "execute_result"
    }
   ],
   "source": [
    "RevDF.columns"
   ]
  },
  {
   "cell_type": "code",
   "execution_count": 14,
   "metadata": {},
   "outputs": [],
   "source": [
    "#cols = ['UID', 'IID','RATING']\n",
    "#RevDF2 = RevDF[cols].copy() "
   ]
  },
  {
   "cell_type": "code",
   "execution_count": 15,
   "metadata": {},
   "outputs": [],
   "source": [
    "#RevDF2.head(10) "
   ]
  },
  {
   "cell_type": "code",
   "execution_count": 16,
   "metadata": {},
   "outputs": [],
   "source": [
    "Sales = RevDF[RevDF['SALE']==1].copy() \n",
    "Sales = RevDF.copy() "
   ]
  },
  {
   "cell_type": "code",
   "execution_count": 17,
   "metadata": {},
   "outputs": [
    {
     "data": {
      "text/html": [
       "<div>\n",
       "<style scoped>\n",
       "    .dataframe tbody tr th:only-of-type {\n",
       "        vertical-align: middle;\n",
       "    }\n",
       "\n",
       "    .dataframe tbody tr th {\n",
       "        vertical-align: top;\n",
       "    }\n",
       "\n",
       "    .dataframe thead th {\n",
       "        text-align: right;\n",
       "    }\n",
       "</style>\n",
       "<table border=\"1\" class=\"dataframe\">\n",
       "  <thead>\n",
       "    <tr style=\"text-align: right;\">\n",
       "      <th></th>\n",
       "      <th>UID</th>\n",
       "      <th>IID</th>\n",
       "      <th>DIST</th>\n",
       "      <th>DPER</th>\n",
       "      <th>AFFIN</th>\n",
       "      <th>RATING</th>\n",
       "      <th>SALE</th>\n",
       "    </tr>\n",
       "  </thead>\n",
       "  <tbody>\n",
       "    <tr>\n",
       "      <th>0</th>\n",
       "      <td>U0001</td>\n",
       "      <td>I0018</td>\n",
       "      <td>13.164091</td>\n",
       "      <td>0.106325</td>\n",
       "      <td>0.798655</td>\n",
       "      <td>8</td>\n",
       "      <td>1</td>\n",
       "    </tr>\n",
       "    <tr>\n",
       "      <th>1</th>\n",
       "      <td>U0001</td>\n",
       "      <td>I0066</td>\n",
       "      <td>11.805605</td>\n",
       "      <td>0.065234</td>\n",
       "      <td>0.873788</td>\n",
       "      <td>9</td>\n",
       "      <td>1</td>\n",
       "    </tr>\n",
       "    <tr>\n",
       "      <th>2</th>\n",
       "      <td>U0001</td>\n",
       "      <td>I0128</td>\n",
       "      <td>24.929997</td>\n",
       "      <td>0.860052</td>\n",
       "      <td>0.019585</td>\n",
       "      <td>1</td>\n",
       "      <td>0</td>\n",
       "    </tr>\n",
       "    <tr>\n",
       "      <th>3</th>\n",
       "      <td>U0001</td>\n",
       "      <td>I0131</td>\n",
       "      <td>15.593110</td>\n",
       "      <td>0.219235</td>\n",
       "      <td>0.609594</td>\n",
       "      <td>6</td>\n",
       "      <td>1</td>\n",
       "    </tr>\n",
       "    <tr>\n",
       "      <th>4</th>\n",
       "      <td>U0001</td>\n",
       "      <td>I0142</td>\n",
       "      <td>28.310396</td>\n",
       "      <td>0.965463</td>\n",
       "      <td>0.001193</td>\n",
       "      <td>1</td>\n",
       "      <td>0</td>\n",
       "    </tr>\n",
       "    <tr>\n",
       "      <th>...</th>\n",
       "      <td>...</td>\n",
       "      <td>...</td>\n",
       "      <td>...</td>\n",
       "      <td>...</td>\n",
       "      <td>...</td>\n",
       "      <td>...</td>\n",
       "      <td>...</td>\n",
       "    </tr>\n",
       "    <tr>\n",
       "      <th>32801</th>\n",
       "      <td>U1000</td>\n",
       "      <td>I0426</td>\n",
       "      <td>16.315121</td>\n",
       "      <td>0.263222</td>\n",
       "      <td>0.542842</td>\n",
       "      <td>6</td>\n",
       "      <td>1</td>\n",
       "    </tr>\n",
       "    <tr>\n",
       "      <th>32802</th>\n",
       "      <td>U1000</td>\n",
       "      <td>I0440</td>\n",
       "      <td>18.580588</td>\n",
       "      <td>0.421978</td>\n",
       "      <td>0.334109</td>\n",
       "      <td>4</td>\n",
       "      <td>0</td>\n",
       "    </tr>\n",
       "    <tr>\n",
       "      <th>32803</th>\n",
       "      <td>U1000</td>\n",
       "      <td>I0441</td>\n",
       "      <td>13.926884</td>\n",
       "      <td>0.135498</td>\n",
       "      <td>0.747364</td>\n",
       "      <td>8</td>\n",
       "      <td>1</td>\n",
       "    </tr>\n",
       "    <tr>\n",
       "      <th>32804</th>\n",
       "      <td>U1000</td>\n",
       "      <td>I0444</td>\n",
       "      <td>17.455853</td>\n",
       "      <td>0.339674</td>\n",
       "      <td>0.436031</td>\n",
       "      <td>5</td>\n",
       "      <td>0</td>\n",
       "    </tr>\n",
       "    <tr>\n",
       "      <th>32805</th>\n",
       "      <td>U1000</td>\n",
       "      <td>I0486</td>\n",
       "      <td>17.062917</td>\n",
       "      <td>0.312269</td>\n",
       "      <td>0.472973</td>\n",
       "      <td>5</td>\n",
       "      <td>1</td>\n",
       "    </tr>\n",
       "  </tbody>\n",
       "</table>\n",
       "<p>32806 rows × 7 columns</p>\n",
       "</div>"
      ],
      "text/plain": [
       "         UID    IID       DIST      DPER     AFFIN  RATING  SALE\n",
       "0      U0001  I0018  13.164091  0.106325  0.798655       8     1\n",
       "1      U0001  I0066  11.805605  0.065234  0.873788       9     1\n",
       "2      U0001  I0128  24.929997  0.860052  0.019585       1     0\n",
       "3      U0001  I0131  15.593110  0.219235  0.609594       6     1\n",
       "4      U0001  I0142  28.310396  0.965463  0.001193       1     0\n",
       "...      ...    ...        ...       ...       ...     ...   ...\n",
       "32801  U1000  I0426  16.315121  0.263222  0.542842       6     1\n",
       "32802  U1000  I0440  18.580588  0.421978  0.334109       4     0\n",
       "32803  U1000  I0441  13.926884  0.135498  0.747364       8     1\n",
       "32804  U1000  I0444  17.455853  0.339674  0.436031       5     0\n",
       "32805  U1000  I0486  17.062917  0.312269  0.472973       5     1\n",
       "\n",
       "[32806 rows x 7 columns]"
      ]
     },
     "execution_count": 17,
     "metadata": {},
     "output_type": "execute_result"
    }
   ],
   "source": [
    "Sales"
   ]
  },
  {
   "cell_type": "code",
   "execution_count": 18,
   "metadata": {},
   "outputs": [],
   "source": [
    "# ['UID' ,'IID' ,'SALE']\n",
    "# ['ENT1','ENT2','SCORE'] "
   ]
  },
  {
   "cell_type": "code",
   "execution_count": 19,
   "metadata": {},
   "outputs": [],
   "source": [
    "#############################################################################\n",
    "#############################################################################\n",
    "#############################################################################"
   ]
  },
  {
   "cell_type": "code",
   "execution_count": null,
   "metadata": {},
   "outputs": [],
   "source": [
    "Notes = '''\n",
    "\n",
    "model = SimpleVecModel() \n",
    "\n",
    "# Given: A Matrix of ['UID','IID'] pairs, \"relations\":\n",
    "\n",
    "model.fit(relations,vec_len=30)  \n",
    "\n",
    "vec = model.vec[UID] \n",
    "\n",
    "cos_sim = model.cos_sim(A,B) \n",
    "\n",
    "\n",
    "'''"
   ]
  },
  {
   "cell_type": "code",
   "execution_count": 65,
   "metadata": {},
   "outputs": [],
   "source": [
    "\n",
    "W2V = word2vec() \n",
    "# Cosine Similarity of one Vector to a Matrix: \n",
    "def cosine_sim_mat(vec_target,vec_matrix):\n",
    "    return W2V.wv.cosine_similarities(vec_target,vec_matrix) \n",
    "  \n",
    "def cosine_sim_vec(x, y):\n",
    "    return np.dot(x, y) / (np.sqrt(np.dot(x, x)) * np.sqrt(np.dot(y, y)))\n",
    "\n",
    "def normalize(vec1):\n",
    "    m = vec1.mean()\n",
    "    vec2 = vec1-m\n",
    "    return vec2/(vec2.std()) \n",
    "\n",
    "def getLinSim(vec_target,vec_matrix,exp=1.0):\n",
    "    return 1-(np.abs(M-np.array([t]))**exp).mean(1) \n",
    "\n",
    "#--------------------------------------------------------------------\n",
    "\n",
    "class SimpleVecModel:\n",
    "    \n",
    "    def __init__(self):\n",
    "        self.x = 1\n",
    "        \n",
    "    def fit(self,relations,add_prefix=True):\n",
    "        rels = np.array(relations).astype(str)\n",
    "        # Shuffles the training data. (Good practice for large data sets.) \n",
    "        for _ in range(7): np.random.shuffle(rels) \n",
    "        \n",
    "        self.ent2id = dict()\n",
    "        self.id2ent = dict()\n",
    "        \n",
    "        ents1 = np.array(sorted(set(rels[:,0]))) \n",
    "        for ent in ents1:\n",
    "            if add_prefix: ent_id = 'ENT1_'+str(ent) \n",
    "            else:          ent_id = str(ent)\n",
    "            self.ent2id[ent] = ent_id\n",
    "            self.id2ent[ent_id] = ent\n",
    "        ids1 = np.array([self.ent2id[ent] for ent in ents1])\n",
    "        \n",
    "        ents2 = np.array(sorted(set(rels[:,1]))) \n",
    "        for ent in ents2:\n",
    "            if add_prefix: ent_id = 'ENT2_'+str(ent) \n",
    "            else:          ent_id = str(ent)\n",
    "            self.ent2id[ent] = ent_id\n",
    "            self.id2ent[ent_id] = ent\n",
    "        ids2 = np.array([self.ent2id[ent] for ent in ents2])\n",
    "        \n",
    "        rels2 = []\n",
    "        for r in rels:\n",
    "            ent1,ent2 = tuple(r) \n",
    "            id1,id2 = self.ent2id[ent1],self.ent2id[ent2] \n",
    "            rels2.append([id1,id2]) \n",
    "        \n",
    "        self.w2v = word2vec(\n",
    "            rels2,\n",
    "            vector_size=10,\n",
    "            epochs=40,\n",
    "            alpha=0.0123,\n",
    "            min_count=3,  \n",
    "            negative=25,\n",
    "            batch_words=100000,\n",
    "            workers=9    \n",
    "        );\n",
    "        \n",
    "        self.id2vec = dict() \n",
    "        for id1 in ids1:\n",
    "            try: vec = self.w2v.wv[id1]\n",
    "            except: continue\n",
    "            self.id2vec[id1] = vec\n",
    "        for id2 in ids2:\n",
    "            try: vec = self.w2v.wv[id2]\n",
    "            except: continue\n",
    "            self.id2vec[id2] = vec\n",
    "            \n",
    "        self.all_found_ids  = np.array(sorted(self.id2vec)) \n",
    "        self.all_found_ents = np.array([self.id2ent[fid] for fid in self.all_found_ids]) \n",
    "        self.all_found_vecs = np.array([self.id2vec[fid] for fid in self.all_found_ids])\n",
    "        \n",
    "        print('Done fitting embedding model.') \n",
    "        \n",
    "    def ent2vec(self,ent):\n",
    "        try:\n",
    "            ent_id = self.ent2id[str(ent)]\n",
    "            vec = self.id2vec[ent_id] \n",
    "            return normalize(vec) \n",
    "        except:\n",
    "            return np.array([]) \n",
    "        \n",
    "    def similar(self,tgt_ent,other_ents=[],n_similar=25): \n",
    "        if len(other_ents)>0:\n",
    "            self.found_ent_set = set(self.all_found_ents) \n",
    "            found_ents = np.array([a for a in other_ents if ent in self.found_ent_set]) \n",
    "            M = np.array(sorted([self.ent2vec(ent) for ent in found_ents]))  \n",
    "        else: \n",
    "            M = self.all_found_vecs\n",
    "            found_ents = np.array(self.all_found_ents) \n",
    "        tgt_vec = self.ent2vec(tgt_ent) \n",
    "        sims = cosine_sim_mat(tgt_vec,M) \n",
    "        order = np.argsort(sims)[::-1] \n",
    "        top_results = found_ents[order][:n_similar+2]  \n",
    "        return [a for a in top_results if a!=tgt_ent][:n_similar] \n",
    "            \n"
   ]
  },
  {
   "cell_type": "code",
   "execution_count": 66,
   "metadata": {},
   "outputs": [],
   "source": [
    "#############################################################################\n",
    "#############################################################################"
   ]
  },
  {
   "cell_type": "code",
   "execution_count": 72,
   "metadata": {},
   "outputs": [
    {
     "name": "stdout",
     "output_type": "stream",
     "text": [
      "[['U0001' 'I0018']\n",
      " ['U0001' 'I0066']\n",
      " ['U0001' 'I0131']\n",
      " ['U0001' 'I0234']\n",
      " ['U0001' 'I0454']\n",
      " ['U0002' 'I0047']\n",
      " ['U0002' 'I0130']\n",
      " ['U0002' 'I0135']\n",
      " ['U0002' 'I0193']\n",
      " ['U0002' 'I0195']]\n"
     ]
    }
   ],
   "source": [
    "relations = RevDF[RevDF['SALE']==1][['UID','IID']].values\n",
    "print(relations[:10]) "
   ]
  },
  {
   "cell_type": "code",
   "execution_count": 67,
   "metadata": {},
   "outputs": [
    {
     "name": "stdout",
     "output_type": "stream",
     "text": [
      "Done fitting embedding model.\n"
     ]
    }
   ],
   "source": [
    "model = SimpleVecModel() \n",
    "model.fit(relations) "
   ]
  },
  {
   "cell_type": "code",
   "execution_count": 68,
   "metadata": {},
   "outputs": [
    {
     "data": {
      "text/plain": [
       "array([['U0001', 'I0018'],\n",
       "       ['U0001', 'I0066'],\n",
       "       ['U0001', 'I0131'],\n",
       "       ...,\n",
       "       ['U1000', 'I0426'],\n",
       "       ['U1000', 'I0441'],\n",
       "       ['U1000', 'I0486']], dtype=object)"
      ]
     },
     "execution_count": 68,
     "metadata": {},
     "output_type": "execute_result"
    }
   ],
   "source": [
    "relations"
   ]
  },
  {
   "cell_type": "code",
   "execution_count": 76,
   "metadata": {},
   "outputs": [
    {
     "data": {
      "text/plain": [
       "array([ 0.4373381 , -0.41223752,  0.14855556, -0.03600831,  0.45119897,\n",
       "        0.3741549 ,  0.6578923 ,  0.751126  , -0.7877293 , -0.4883157 ],\n",
       "      dtype=float32)"
      ]
     },
     "execution_count": 76,
     "metadata": {},
     "output_type": "execute_result"
    }
   ],
   "source": [
    "ent1 = 'U0001'\n",
    "vec1 = model.ent2vec(ent1) \n",
    "vec1"
   ]
  },
  {
   "cell_type": "code",
   "execution_count": 77,
   "metadata": {},
   "outputs": [],
   "source": [
    "matches = model.similar(ent1) "
   ]
  },
  {
   "cell_type": "code",
   "execution_count": 78,
   "metadata": {},
   "outputs": [
    {
     "data": {
      "text/plain": [
       "['U0183', 'U0262', 'U0611', 'U0900', 'U0541']"
      ]
     },
     "execution_count": 78,
     "metadata": {},
     "output_type": "execute_result"
    }
   ],
   "source": [
    "matches[:5] "
   ]
  },
  {
   "cell_type": "code",
   "execution_count": 79,
   "metadata": {},
   "outputs": [
    {
     "data": {
      "text/plain": [
       "array([ 0.43359825, -0.39493355,  0.21564676, -0.05154037,  0.45017964,\n",
       "        0.4248314 ,  0.7092857 ,  0.801722  , -0.83830285, -0.54948926],\n",
       "      dtype=float32)"
      ]
     },
     "execution_count": 79,
     "metadata": {},
     "output_type": "execute_result"
    }
   ],
   "source": [
    "ent2 = 'U0183'\n",
    "vec2 = model.ent2vec(ent2)  \n",
    "vec2"
   ]
  },
  {
   "cell_type": "code",
   "execution_count": 87,
   "metadata": {},
   "outputs": [],
   "source": [
    "ent_id = model.ent2id[ent1] \n",
    "results = model.w2v.predict_output_word([ent_id],10)  \n",
    "id_matches = [a[0] for a in results] \n",
    "match_vecs = np.array([model.id2vec[ent_id] for ent_id in id_matches]) "
   ]
  },
  {
   "cell_type": "code",
   "execution_count": 89,
   "metadata": {},
   "outputs": [],
   "source": [
    "ave_vec = normalize(match_vecs.sum(0)) "
   ]
  },
  {
   "cell_type": "code",
   "execution_count": 90,
   "metadata": {},
   "outputs": [
    {
     "data": {
      "text/plain": [
       "array([ 0.58566844, -0.93374795,  0.229962  , -0.50346017,  0.7876514 ,\n",
       "        0.75232744,  0.96299195,  1.1507213 , -1.9872206 , -1.0448939 ],\n",
       "      dtype=float32)"
      ]
     },
     "execution_count": 90,
     "metadata": {},
     "output_type": "execute_result"
    }
   ],
   "source": [
    "ave_vec"
   ]
  },
  {
   "cell_type": "code",
   "execution_count": null,
   "metadata": {},
   "outputs": [],
   "source": [
    "#############################################################################\n",
    "#############################################################################"
   ]
  },
  {
   "cell_type": "code",
   "execution_count": 95,
   "metadata": {},
   "outputs": [
    {
     "name": "stdout",
     "output_type": "stream",
     "text": [
      "Evaluation Coverage: 0.99241\n"
     ]
    }
   ],
   "source": [
    "### EVALUATE THE EMBEDDINGS BY CALCULATING THE LATENT DISTANCE OF THE TRUE EMBEDDINGS \n",
    "### AND COMPARING TO THE COSINE SIM OF THE INFERRED/MODELED EMBEDDINGS.\n",
    "\n",
    "TDF = RevDF[['UID','IID','DIST']].copy() \n",
    "\n",
    "results = []\n",
    "for r in TDF.values:\n",
    "    ent1,ent2,dist = tuple(r) \n",
    "    \n",
    "    vec1 = model.ent2vec(ent1)\n",
    "    vec2 = model.ent2vec(ent2) \n",
    "    \n",
    "    if len(vec1)<1 or len(vec2)<1: continue \n",
    "    cos_sim = cosine_sim_vec(vec1,vec2)\n",
    "    results.append([ent1,ent2,dist,cos_sim]) \n",
    "    \n",
    "RDF = pd.DataFrame(results)\n",
    "RDF.columns = ['UID','IID','DIST','COS_SIM'] \n",
    "    \n",
    "coverage = len(RDF)/len(TDF) \n",
    "print('Evaluation Coverage:',round(coverage,6))"
   ]
  },
  {
   "cell_type": "code",
   "execution_count": 97,
   "metadata": {},
   "outputs": [
    {
     "data": {
      "text/plain": [
       "0.97363615"
      ]
     },
     "execution_count": 97,
     "metadata": {},
     "output_type": "execute_result"
    }
   ],
   "source": [
    "RDF['COS_SIM'].mean() "
   ]
  },
  {
   "cell_type": "code",
   "execution_count": 98,
   "metadata": {},
   "outputs": [
    {
     "data": {
      "text/plain": [
       "array([ 0.45372668, -0.36753684,  0.16939509, -0.11888527,  0.5808792 ,\n",
       "        0.44169354,  0.67561275,  0.8302817 , -1.0012454 , -0.4402082 ],\n",
       "      dtype=float32)"
      ]
     },
     "execution_count": 98,
     "metadata": {},
     "output_type": "execute_result"
    }
   ],
   "source": [
    "vec1"
   ]
  },
  {
   "cell_type": "code",
   "execution_count": 99,
   "metadata": {},
   "outputs": [
    {
     "data": {
      "text/plain": [
       "array([ 0.40636188, -0.33068043,  0.36374336, -0.25951698,  0.52015936,\n",
       "        0.5081867 ,  0.71339184,  0.8053956 , -1.0278873 , -0.53701967],\n",
       "      dtype=float32)"
      ]
     },
     "execution_count": 99,
     "metadata": {},
     "output_type": "execute_result"
    }
   ],
   "source": [
    "vec2"
   ]
  },
  {
   "cell_type": "code",
   "execution_count": null,
   "metadata": {},
   "outputs": [],
   "source": []
  },
  {
   "cell_type": "code",
   "execution_count": null,
   "metadata": {},
   "outputs": [],
   "source": []
  },
  {
   "cell_type": "code",
   "execution_count": null,
   "metadata": {},
   "outputs": [],
   "source": []
  },
  {
   "cell_type": "code",
   "execution_count": null,
   "metadata": {},
   "outputs": [],
   "source": []
  },
  {
   "cell_type": "code",
   "execution_count": null,
   "metadata": {},
   "outputs": [],
   "source": []
  },
  {
   "cell_type": "code",
   "execution_count": null,
   "metadata": {},
   "outputs": [],
   "source": []
  },
  {
   "cell_type": "code",
   "execution_count": null,
   "metadata": {},
   "outputs": [],
   "source": []
  },
  {
   "cell_type": "code",
   "execution_count": null,
   "metadata": {},
   "outputs": [],
   "source": []
  },
  {
   "cell_type": "code",
   "execution_count": null,
   "metadata": {},
   "outputs": [],
   "source": []
  },
  {
   "cell_type": "code",
   "execution_count": null,
   "metadata": {},
   "outputs": [],
   "source": []
  },
  {
   "cell_type": "code",
   "execution_count": null,
   "metadata": {},
   "outputs": [],
   "source": []
  },
  {
   "cell_type": "code",
   "execution_count": null,
   "metadata": {},
   "outputs": [],
   "source": []
  },
  {
   "cell_type": "code",
   "execution_count": null,
   "metadata": {},
   "outputs": [],
   "source": []
  }
 ],
 "metadata": {
  "kernelspec": {
   "display_name": "Python 3",
   "language": "python",
   "name": "python3"
  },
  "language_info": {
   "codemirror_mode": {
    "name": "ipython",
    "version": 3
   },
   "file_extension": ".py",
   "mimetype": "text/x-python",
   "name": "python",
   "nbconvert_exporter": "python",
   "pygments_lexer": "ipython3",
   "version": "3.8.8"
  }
 },
 "nbformat": 4,
 "nbformat_minor": 4
}
