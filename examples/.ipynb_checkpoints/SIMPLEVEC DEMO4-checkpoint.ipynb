{
 "cells": [
  {
   "cell_type": "code",
   "execution_count": 1,
   "metadata": {},
   "outputs": [],
   "source": [
    "#pip install --upgrade simplevec"
   ]
  },
  {
   "cell_type": "code",
   "execution_count": 2,
   "metadata": {},
   "outputs": [
    {
     "name": "stdout",
     "output_type": "stream",
     "text": [
      "Name: simplevec\n",
      "Version: 0.0.2\n",
      "Summary: SimpleVec: Elementary Examples of Vector Modeling\n",
      "Home-page: https://github.com/jrolf/simplevec\n",
      "Author: James A. Rolfsen\n",
      "Author-email: james.rolfsen@think.dev\n",
      "License: UNKNOWN\n",
      "Location: /Users/jar/opt/anaconda3/lib/python3.8/site-packages\n",
      "Requires: gensim, xgboost, pandas, numpy, statsmodels, scikit-learn, scipy, sympy\n",
      "Required-by: \n",
      "Note: you may need to restart the kernel to use updated packages.\n"
     ]
    }
   ],
   "source": [
    "pip show simplevec"
   ]
  },
  {
   "cell_type": "code",
   "execution_count": 3,
   "metadata": {},
   "outputs": [],
   "source": [
    "from simplevec import * "
   ]
  },
  {
   "cell_type": "code",
   "execution_count": 4,
   "metadata": {},
   "outputs": [],
   "source": [
    "#pip install --upgrade gensim\n",
    "from gensim.models import Word2Vec as word2vec "
   ]
  },
  {
   "cell_type": "code",
   "execution_count": 5,
   "metadata": {},
   "outputs": [],
   "source": [
    "import matplotlib.pyplot as plt"
   ]
  },
  {
   "cell_type": "code",
   "execution_count": 6,
   "metadata": {},
   "outputs": [],
   "source": [
    "#############################################################################\n",
    "############################################################################# "
   ]
  },
  {
   "cell_type": "code",
   "execution_count": 7,
   "metadata": {},
   "outputs": [],
   "source": [
    "#############################################################################\n",
    "#############################################################################"
   ]
  },
  {
   "cell_type": "code",
   "execution_count": 8,
   "metadata": {},
   "outputs": [
    {
     "data": {
      "text/plain": [
       "array([13.710215510406075], dtype=object)"
      ]
     },
     "execution_count": 8,
     "metadata": {},
     "output_type": "execute_result"
    }
   ],
   "source": [
    "vec1 = user2vec['U0001']\n",
    "vec2 = item2vec['I0001'] \n",
    "\n",
    "vec1 = np.array([vec1])\n",
    "vec2 = np.array([vec2]) \n",
    "\n",
    "VecDist(vec1,vec2)  "
   ]
  },
  {
   "cell_type": "code",
   "execution_count": 9,
   "metadata": {},
   "outputs": [
    {
     "name": "stdout",
     "output_type": "stream",
     "text": [
      "(1, 6)\n",
      "(1, 6)\n"
     ]
    }
   ],
   "source": [
    "print(vec1.shape)\n",
    "print(vec2.shape) "
   ]
  },
  {
   "cell_type": "code",
   "execution_count": 10,
   "metadata": {},
   "outputs": [],
   "source": [
    "#############################################################################\n",
    "#############################################################################"
   ]
  },
  {
   "cell_type": "code",
   "execution_count": 11,
   "metadata": {},
   "outputs": [],
   "source": [
    "#############################################################################\n",
    "#############################################################################"
   ]
  },
  {
   "cell_type": "code",
   "execution_count": 12,
   "metadata": {},
   "outputs": [
    {
     "data": {
      "text/plain": [
       "0.44185768863419295"
      ]
     },
     "execution_count": 12,
     "metadata": {},
     "output_type": "execute_result"
    }
   ],
   "source": [
    "RevDF['SALE'].mean()"
   ]
  },
  {
   "cell_type": "code",
   "execution_count": 13,
   "metadata": {},
   "outputs": [
    {
     "data": {
      "text/plain": [
       "14.804"
      ]
     },
     "execution_count": 13,
     "metadata": {},
     "output_type": "execute_result"
    }
   ],
   "source": [
    "RevDF['SALE'].sum() / RevDF['UID'].nunique() "
   ]
  },
  {
   "cell_type": "code",
   "execution_count": 14,
   "metadata": {},
   "outputs": [],
   "source": [
    "#RevDF.head(10)"
   ]
  },
  {
   "cell_type": "code",
   "execution_count": 15,
   "metadata": {},
   "outputs": [
    {
     "data": {
      "text/plain": [
       "Index(['UID', 'IID', 'DIST', 'DPER', 'AFFIN', 'RATING', 'SALE'], dtype='object')"
      ]
     },
     "execution_count": 15,
     "metadata": {},
     "output_type": "execute_result"
    }
   ],
   "source": [
    "RevDF.columns"
   ]
  },
  {
   "cell_type": "code",
   "execution_count": 16,
   "metadata": {},
   "outputs": [],
   "source": [
    "#cols = ['UID', 'IID','RATING']\n",
    "#RevDF2 = RevDF[cols].copy() "
   ]
  },
  {
   "cell_type": "code",
   "execution_count": 17,
   "metadata": {},
   "outputs": [],
   "source": [
    "#RevDF2.head(10) "
   ]
  },
  {
   "cell_type": "code",
   "execution_count": 18,
   "metadata": {},
   "outputs": [],
   "source": [
    "Sales = RevDF[RevDF['SALE']==1].copy() \n",
    "Sales = RevDF.copy() "
   ]
  },
  {
   "cell_type": "code",
   "execution_count": 19,
   "metadata": {},
   "outputs": [
    {
     "data": {
      "text/html": [
       "<div>\n",
       "<style scoped>\n",
       "    .dataframe tbody tr th:only-of-type {\n",
       "        vertical-align: middle;\n",
       "    }\n",
       "\n",
       "    .dataframe tbody tr th {\n",
       "        vertical-align: top;\n",
       "    }\n",
       "\n",
       "    .dataframe thead th {\n",
       "        text-align: right;\n",
       "    }\n",
       "</style>\n",
       "<table border=\"1\" class=\"dataframe\">\n",
       "  <thead>\n",
       "    <tr style=\"text-align: right;\">\n",
       "      <th></th>\n",
       "      <th>UID</th>\n",
       "      <th>IID</th>\n",
       "      <th>DIST</th>\n",
       "      <th>DPER</th>\n",
       "      <th>AFFIN</th>\n",
       "      <th>RATING</th>\n",
       "      <th>SALE</th>\n",
       "    </tr>\n",
       "  </thead>\n",
       "  <tbody>\n",
       "    <tr>\n",
       "      <th>0</th>\n",
       "      <td>U0001</td>\n",
       "      <td>I0038</td>\n",
       "      <td>19.775812</td>\n",
       "      <td>0.524789</td>\n",
       "      <td>0.225826</td>\n",
       "      <td>3</td>\n",
       "      <td>0</td>\n",
       "    </tr>\n",
       "    <tr>\n",
       "      <th>1</th>\n",
       "      <td>U0001</td>\n",
       "      <td>I0060</td>\n",
       "      <td>16.275424</td>\n",
       "      <td>0.266305</td>\n",
       "      <td>0.538309</td>\n",
       "      <td>6</td>\n",
       "      <td>0</td>\n",
       "    </tr>\n",
       "    <tr>\n",
       "      <th>2</th>\n",
       "      <td>U0001</td>\n",
       "      <td>I0073</td>\n",
       "      <td>27.370718</td>\n",
       "      <td>0.951049</td>\n",
       "      <td>0.002396</td>\n",
       "      <td>1</td>\n",
       "      <td>0</td>\n",
       "    </tr>\n",
       "    <tr>\n",
       "      <th>3</th>\n",
       "      <td>U0001</td>\n",
       "      <td>I0082</td>\n",
       "      <td>21.205005</td>\n",
       "      <td>0.638152</td>\n",
       "      <td>0.130934</td>\n",
       "      <td>2</td>\n",
       "      <td>0</td>\n",
       "    </tr>\n",
       "    <tr>\n",
       "      <th>4</th>\n",
       "      <td>U0001</td>\n",
       "      <td>I0144</td>\n",
       "      <td>18.690997</td>\n",
       "      <td>0.439185</td>\n",
       "      <td>0.314514</td>\n",
       "      <td>4</td>\n",
       "      <td>0</td>\n",
       "    </tr>\n",
       "    <tr>\n",
       "      <th>...</th>\n",
       "      <td>...</td>\n",
       "      <td>...</td>\n",
       "      <td>...</td>\n",
       "      <td>...</td>\n",
       "      <td>...</td>\n",
       "      <td>...</td>\n",
       "      <td>...</td>\n",
       "    </tr>\n",
       "    <tr>\n",
       "      <th>33499</th>\n",
       "      <td>U1000</td>\n",
       "      <td>I0396</td>\n",
       "      <td>14.153195</td>\n",
       "      <td>0.150524</td>\n",
       "      <td>0.721610</td>\n",
       "      <td>7</td>\n",
       "      <td>1</td>\n",
       "    </tr>\n",
       "    <tr>\n",
       "      <th>33500</th>\n",
       "      <td>U1000</td>\n",
       "      <td>I0403</td>\n",
       "      <td>16.319943</td>\n",
       "      <td>0.269170</td>\n",
       "      <td>0.534113</td>\n",
       "      <td>6</td>\n",
       "      <td>0</td>\n",
       "    </tr>\n",
       "    <tr>\n",
       "      <th>33501</th>\n",
       "      <td>U1000</td>\n",
       "      <td>I0414</td>\n",
       "      <td>14.632108</td>\n",
       "      <td>0.173507</td>\n",
       "      <td>0.683091</td>\n",
       "      <td>7</td>\n",
       "      <td>1</td>\n",
       "    </tr>\n",
       "    <tr>\n",
       "      <th>33502</th>\n",
       "      <td>U1000</td>\n",
       "      <td>I0444</td>\n",
       "      <td>22.051886</td>\n",
       "      <td>0.700654</td>\n",
       "      <td>0.089608</td>\n",
       "      <td>2</td>\n",
       "      <td>0</td>\n",
       "    </tr>\n",
       "    <tr>\n",
       "      <th>33503</th>\n",
       "      <td>U1000</td>\n",
       "      <td>I0495</td>\n",
       "      <td>25.005627</td>\n",
       "      <td>0.875205</td>\n",
       "      <td>0.015574</td>\n",
       "      <td>1</td>\n",
       "      <td>0</td>\n",
       "    </tr>\n",
       "  </tbody>\n",
       "</table>\n",
       "<p>33504 rows × 7 columns</p>\n",
       "</div>"
      ],
      "text/plain": [
       "         UID    IID       DIST      DPER     AFFIN  RATING  SALE\n",
       "0      U0001  I0038  19.775812  0.524789  0.225826       3     0\n",
       "1      U0001  I0060  16.275424  0.266305  0.538309       6     0\n",
       "2      U0001  I0073  27.370718  0.951049  0.002396       1     0\n",
       "3      U0001  I0082  21.205005  0.638152  0.130934       2     0\n",
       "4      U0001  I0144  18.690997  0.439185  0.314514       4     0\n",
       "...      ...    ...        ...       ...       ...     ...   ...\n",
       "33499  U1000  I0396  14.153195  0.150524  0.721610       7     1\n",
       "33500  U1000  I0403  16.319943  0.269170  0.534113       6     0\n",
       "33501  U1000  I0414  14.632108  0.173507  0.683091       7     1\n",
       "33502  U1000  I0444  22.051886  0.700654  0.089608       2     0\n",
       "33503  U1000  I0495  25.005627  0.875205  0.015574       1     0\n",
       "\n",
       "[33504 rows x 7 columns]"
      ]
     },
     "execution_count": 19,
     "metadata": {},
     "output_type": "execute_result"
    }
   ],
   "source": [
    "Sales"
   ]
  },
  {
   "cell_type": "code",
   "execution_count": 20,
   "metadata": {},
   "outputs": [],
   "source": [
    "# ['UID' ,'IID' ,'SALE']\n",
    "# ['ENT1','ENT2','SCORE'] "
   ]
  },
  {
   "cell_type": "code",
   "execution_count": 21,
   "metadata": {},
   "outputs": [],
   "source": [
    "#############################################################################\n",
    "#############################################################################\n",
    "#############################################################################"
   ]
  },
  {
   "cell_type": "code",
   "execution_count": 22,
   "metadata": {},
   "outputs": [],
   "source": [
    "Notes = '''\n",
    "\n",
    "model = SimpleVecModel() \n",
    "\n",
    "# Given: A Matrix of ['UID','IID'] pairs, \"relations\":\n",
    "\n",
    "model.fit(relations,vec_len=30)  \n",
    "\n",
    "vec = model.vec[UID] \n",
    "\n",
    "cos_sim = model.cos_sim(A,B) \n",
    "\n",
    "\n",
    "'''"
   ]
  },
  {
   "cell_type": "code",
   "execution_count": 23,
   "metadata": {},
   "outputs": [],
   "source": [
    "\n",
    "W2V = word2vec() \n",
    "# Cosine Similarity of one Vector to a Matrix: \n",
    "def cosine_sim_mat(vec_target,vec_matrix):\n",
    "    return W2V.wv.cosine_similarities(vec_target,vec_matrix) \n",
    "  \n",
    "def cosine_sim_vec(x, y):\n",
    "    return np.dot(x, y) / (np.sqrt(np.dot(x, x)) * np.sqrt(np.dot(y, y)))\n",
    "\n",
    "def normalize(vec1):\n",
    "    m = vec1.mean()\n",
    "    vec2 = vec1-m\n",
    "    return vec2/(vec2.std()) \n",
    "\n",
    "def getLinSim(vec_target,vec_matrix,exp=1.0):\n",
    "    return 1-(np.abs(M-np.array([t]))**exp).mean(1) \n",
    "\n",
    "def CalcCorr(x,y):\n",
    "    return np.corrcoef(x,y)[0][1] \n",
    "\n",
    "def compute_average_vectors(vector_matrix, class_ids):\n",
    "    # Step 1: Identify unique classes\n",
    "    unique_classes = np.unique(class_ids)\n",
    "    # Step 2 & 3: Group vectors by class and compute averages\n",
    "    averages = {class_id: vector_matrix[class_ids == class_id].mean(axis=0) for class_id in unique_classes}\n",
    "    return averages\n",
    "\n",
    "Usage = '''\n",
    "# Example usage\n",
    "data = np.array([[1, 2], [3, 4], [5, 6], [7, 8]])  # Replace with your data\n",
    "class_ids = np.array([1, 2, 1, 2])                 # Replace with your class IDs\n",
    "average_vectors = compute_average_vectors(data, class_ids)\n",
    "print(average_vectors) \n",
    "'''\n",
    "\n",
    "#--------------------------------------------------------------------\n",
    "\n",
    "class SimpleVecModel:\n",
    "    \n",
    "    def __init__(self):\n",
    "        self.x = 1\n",
    "        \n",
    "    def fit(self,relations,add_prefix=True):\n",
    "        rels = np.array(relations).astype(str)\n",
    "        # Shuffles the training data. (Good practice for large data sets.) \n",
    "        for _ in range(7): np.random.shuffle(rels) \n",
    "        \n",
    "        self.ent2id = dict()\n",
    "        self.id2ent = dict()\n",
    "        \n",
    "        ents1 = np.array(sorted(set(rels[:,0]))) \n",
    "        for ent in ents1:\n",
    "            if add_prefix: ent_id = 'ENT1_'+str(ent) \n",
    "            else:          ent_id = str(ent)\n",
    "            self.ent2id[ent] = ent_id\n",
    "            self.id2ent[ent_id] = ent\n",
    "        ids1 = np.array([self.ent2id[ent] for ent in ents1])\n",
    "        \n",
    "        ents2 = np.array(sorted(set(rels[:,1]))) \n",
    "        for ent in ents2:\n",
    "            if add_prefix: ent_id = 'ENT2_'+str(ent) \n",
    "            else:          ent_id = str(ent)\n",
    "            self.ent2id[ent] = ent_id\n",
    "            self.id2ent[ent_id] = ent\n",
    "        ids2 = np.array([self.ent2id[ent] for ent in ents2])\n",
    "        \n",
    "        rels2 = []\n",
    "        for r in rels:\n",
    "            ent1,ent2 = tuple(r) \n",
    "            id1,id2 = self.ent2id[ent1],self.ent2id[ent2] \n",
    "            rels2.append([id1,id2]) \n",
    "        \n",
    "        self.w2v = word2vec(\n",
    "            rels2,\n",
    "            #size=10,\n",
    "            vector_size=10,\n",
    "            #iter=80,  # 40\n",
    "            epochs=80,  # 40\n",
    "            alpha=0.02,\n",
    "            min_count=3,  \n",
    "            negative=25,\n",
    "            batch_words=100000,\n",
    "            workers=9    \n",
    "        );\n",
    "        \n",
    "        self.id2vec = dict() \n",
    "        for id1 in ids1:\n",
    "            try: vec = self.w2v.wv[id1]\n",
    "            except: continue\n",
    "            self.id2vec[id1] = vec\n",
    "        for id2 in ids2:\n",
    "            try: vec = self.w2v.wv[id2]\n",
    "            except: continue\n",
    "            self.id2vec[id2] = vec\n",
    "            \n",
    "        #----------------------------------------------------\n",
    "        \n",
    "        id1_vecs = []\n",
    "        id2_classes = [] \n",
    "        for rel in rels2:\n",
    "            id1,id2 = tuple(rel) \n",
    "            if id1 not in self.id2vec: continue\n",
    "            vec1 = self.id2vec[id1] \n",
    "            id1_vecs.append(vec1)\n",
    "            id2_classes.append(id2) \n",
    "        id1_vecs = np.array(id1_vecs) \n",
    "        id2_classes = np.array(id2_classes) \n",
    "        \n",
    "        id2_dict = compute_average_vectors(id1_vecs, id2_classes) \n",
    "        found_ids2 = np.array(sorted(id2_dict)) \n",
    "        for id2 in found_ids2:\n",
    "            self.id2vec[id2] =  np.array(id2_dict[id2]) \n",
    "            \n",
    "        #----------------------------------------------------\n",
    "            \n",
    "        self.all_found_ids  = np.array(sorted(self.id2vec)) \n",
    "        self.all_found_ents = np.array([self.id2ent[fid] for fid in self.all_found_ids]) \n",
    "        self.all_found_vecs = np.array([self.id2vec[fid] for fid in self.all_found_ids])\n",
    "        \n",
    "        M = np.array(self.all_found_vecs) \n",
    "        \n",
    "        Notes = '''\n",
    "\n",
    "        Where M is a 2-D vector that represents a list of embeddings...\n",
    "        There are at least 8 variations for how to normalize vectors.\n",
    "        Please note that the order of these operations may matter.\n",
    "        They exist as some combination of the following 4 operations:\n",
    "\n",
    "        M = M - M.mean(0)    # Normalize the columns to Ave == 0.0\n",
    "        M = M / M.std(0)     # Normalize the columns to Std == 1.0\n",
    "        M = M - M.mean(1)    # Normalize the rows    to Ave == 0.0\n",
    "        M = M / M.std(1)     # Normalize the rows    to Std == 1.0\n",
    "\n",
    "        M = M / (np.abs(M).mean(1)).reshape(-1, 1)\n",
    "\n",
    "        These operations are (roughly) in order of priority.\n",
    "\n",
    "        '''\n",
    "        # Selected Normalization Operations:\n",
    "        M = M - M.mean(0)\n",
    "        M = M / M.std(0) \n",
    "        \n",
    "        # Reset the underlying vector dictionary\n",
    "        for ent_id,vec in zip(self.all_found_ids,M):\n",
    "            self.id2vec[ent_id] = vec\n",
    "            \n",
    "        # Reset the record of the IDs, the Ents, and the Found Vecs matrix:\n",
    "        self.all_found_ids  = np.array(sorted(self.id2vec)) \n",
    "        self.all_found_ents = np.array([self.id2ent[fid] for fid in self.all_found_ids]) \n",
    "        self.all_found_vecs = np.array([self.id2vec[fid] for fid in self.all_found_ids])\n",
    "        \n",
    "        print('Done fitting embedding model.') \n",
    "        \n",
    "    def ent2vec(self,ent):\n",
    "        try:\n",
    "            ent_id = self.ent2id[str(ent)]\n",
    "            vec = self.id2vec[ent_id] \n",
    "            return vec #normalize(vec) \n",
    "        except:\n",
    "            return np.array([]) \n",
    "        \n",
    "    def similar(self,tgt_ent,other_ents=[],n_similar=25): \n",
    "        if len(other_ents)>0:\n",
    "            self.found_ent_set = set(self.all_found_ents) \n",
    "            found_ents = np.array([a for a in other_ents if ent in self.found_ent_set]) \n",
    "            M = np.array(sorted([self.ent2vec(ent) for ent in found_ents]))  \n",
    "        else: \n",
    "            M = self.all_found_vecs\n",
    "            found_ents = np.array(self.all_found_ents) \n",
    "        tgt_vec = self.ent2vec(tgt_ent) \n",
    "        sims = cosine_sim_mat(tgt_vec,M) \n",
    "        order = np.argsort(sims)[::-1] \n",
    "        top_results = found_ents[order][:n_similar+2]  \n",
    "        return [a for a in top_results if a!=tgt_ent][:n_similar] \n",
    "            \n"
   ]
  },
  {
   "cell_type": "code",
   "execution_count": null,
   "metadata": {},
   "outputs": [],
   "source": []
  },
  {
   "cell_type": "code",
   "execution_count": 24,
   "metadata": {},
   "outputs": [],
   "source": [
    "#word2vec?"
   ]
  },
  {
   "cell_type": "code",
   "execution_count": null,
   "metadata": {},
   "outputs": [],
   "source": []
  },
  {
   "cell_type": "code",
   "execution_count": 25,
   "metadata": {},
   "outputs": [],
   "source": [
    "#############################################################################\n",
    "#############################################################################"
   ]
  },
  {
   "cell_type": "code",
   "execution_count": 26,
   "metadata": {},
   "outputs": [
    {
     "name": "stdout",
     "output_type": "stream",
     "text": [
      "[['U0001' 'I0223']\n",
      " ['U0001' 'I0336']\n",
      " ['U0001' 'I0462']\n",
      " ['U0002' 'I0076']\n",
      " ['U0002' 'I0131']\n",
      " ['U0002' 'I0158']\n",
      " ['U0002' 'I0186']\n",
      " ['U0002' 'I0191']\n",
      " ['U0002' 'I0225']\n",
      " ['U0002' 'I0240']]\n"
     ]
    }
   ],
   "source": [
    "relations = RevDF[RevDF['SALE']==1][['UID','IID']].values\n",
    "print(relations[:10]) "
   ]
  },
  {
   "cell_type": "code",
   "execution_count": 27,
   "metadata": {},
   "outputs": [
    {
     "name": "stdout",
     "output_type": "stream",
     "text": [
      "Done fitting embedding model.\n"
     ]
    }
   ],
   "source": [
    "model = SimpleVecModel() \n",
    "model.fit(relations) "
   ]
  },
  {
   "cell_type": "code",
   "execution_count": 28,
   "metadata": {},
   "outputs": [
    {
     "data": {
      "text/plain": [
       "array([['U0001', 'I0223'],\n",
       "       ['U0001', 'I0336'],\n",
       "       ['U0001', 'I0462'],\n",
       "       ...,\n",
       "       ['U1000', 'I0336'],\n",
       "       ['U1000', 'I0396'],\n",
       "       ['U1000', 'I0414']], dtype=object)"
      ]
     },
     "execution_count": 28,
     "metadata": {},
     "output_type": "execute_result"
    }
   ],
   "source": [
    "relations"
   ]
  },
  {
   "cell_type": "code",
   "execution_count": 29,
   "metadata": {},
   "outputs": [
    {
     "data": {
      "text/plain": [
       "array([-0.6728256 , -0.17194417,  0.4453312 ,  1.2276343 , -0.7207129 ,\n",
       "       -0.5334974 , -1.304794  ,  0.31563452, -0.9712659 ,  0.07980557],\n",
       "      dtype=float32)"
      ]
     },
     "execution_count": 29,
     "metadata": {},
     "output_type": "execute_result"
    }
   ],
   "source": [
    "ent1 = 'U0001'\n",
    "vec1 = model.ent2vec(ent1) \n",
    "vec1"
   ]
  },
  {
   "cell_type": "code",
   "execution_count": 30,
   "metadata": {},
   "outputs": [],
   "source": [
    "matches = model.similar(ent1) "
   ]
  },
  {
   "cell_type": "code",
   "execution_count": 31,
   "metadata": {},
   "outputs": [
    {
     "data": {
      "text/plain": [
       "['U0203', 'U0941', 'I0071', 'U0727', 'U0816']"
      ]
     },
     "execution_count": 31,
     "metadata": {},
     "output_type": "execute_result"
    }
   ],
   "source": [
    "matches[:5] "
   ]
  },
  {
   "cell_type": "code",
   "execution_count": 32,
   "metadata": {},
   "outputs": [
    {
     "data": {
      "text/plain": [
       "array([-0.56200147,  0.78021485,  1.6022903 ,  0.815785  , -0.32646072,\n",
       "       -0.10173335, -0.01794871,  0.72380376,  0.59536046, -0.88090444],\n",
       "      dtype=float32)"
      ]
     },
     "execution_count": 32,
     "metadata": {},
     "output_type": "execute_result"
    }
   ],
   "source": [
    "ent2 = 'U0183'\n",
    "vec2 = model.ent2vec(ent2)  \n",
    "vec2"
   ]
  },
  {
   "cell_type": "code",
   "execution_count": 33,
   "metadata": {},
   "outputs": [],
   "source": [
    "ent_id = model.ent2id[ent1] \n",
    "results = model.w2v.predict_output_word([ent_id],10)  \n",
    "id_matches = [a[0] for a in results] \n",
    "match_vecs = np.array([model.id2vec[ent_id] for ent_id in id_matches]) "
   ]
  },
  {
   "cell_type": "code",
   "execution_count": 34,
   "metadata": {},
   "outputs": [],
   "source": [
    "ave_vec = normalize(match_vecs.sum(0)) "
   ]
  },
  {
   "cell_type": "code",
   "execution_count": 35,
   "metadata": {},
   "outputs": [
    {
     "data": {
      "text/plain": [
       "array([ 0.93049586, -0.8526799 , -0.2988791 ,  1.5066048 , -1.2954217 ,\n",
       "       -1.4759487 ,  0.7768979 ,  1.1095678 , -0.57208395,  0.17144682],\n",
       "      dtype=float32)"
      ]
     },
     "execution_count": 35,
     "metadata": {},
     "output_type": "execute_result"
    }
   ],
   "source": [
    "ave_vec"
   ]
  },
  {
   "cell_type": "code",
   "execution_count": 36,
   "metadata": {},
   "outputs": [],
   "source": [
    "#############################################################################\n",
    "#############################################################################"
   ]
  },
  {
   "cell_type": "code",
   "execution_count": 37,
   "metadata": {},
   "outputs": [
    {
     "name": "stdout",
     "output_type": "stream",
     "text": [
      "Evaluation Coverage: 0.993105\n"
     ]
    }
   ],
   "source": [
    "### EVALUATE THE EMBEDDINGS BY CALCULATING THE LATENT DISTANCE OF THE TRUE EMBEDDINGS \n",
    "### AND COMPARING TO THE COSINE SIM OF THE INFERRED/MODELED EMBEDDINGS.\n",
    "\n",
    "TDF = RevDF[['UID','IID','DIST']].copy() \n",
    "\n",
    "results = []\n",
    "for r in TDF.values:\n",
    "    ent1,ent2,dist = tuple(r) \n",
    "    \n",
    "    vec1 = model.ent2vec(ent1)\n",
    "    vec2 = model.ent2vec(ent2) \n",
    "    \n",
    "    if len(vec1)<1 or len(vec2)<1: continue \n",
    "    cos_sim = cosine_sim_vec(vec1,vec2)\n",
    "    results.append([ent1,ent2,dist,cos_sim]) \n",
    "    \n",
    "RDF = pd.DataFrame(results)\n",
    "RDF.columns = ['UID','IID','DIST','COS_SIM'] \n",
    "    \n",
    "coverage = len(RDF)/len(TDF) \n",
    "print('Evaluation Coverage:',round(coverage,6))"
   ]
  },
  {
   "cell_type": "code",
   "execution_count": 38,
   "metadata": {},
   "outputs": [
    {
     "data": {
      "text/plain": [
       "0.081350155"
      ]
     },
     "execution_count": 38,
     "metadata": {},
     "output_type": "execute_result"
    }
   ],
   "source": [
    "RDF['COS_SIM'].mean() "
   ]
  },
  {
   "cell_type": "code",
   "execution_count": 39,
   "metadata": {},
   "outputs": [
    {
     "data": {
      "text/plain": [
       "array([-0.05430149,  1.36725   , -0.92155886,  2.2510877 , -0.4384992 ,\n",
       "        0.96653557, -0.04312978,  0.6477045 ,  0.4486322 , -1.1142013 ],\n",
       "      dtype=float32)"
      ]
     },
     "execution_count": 39,
     "metadata": {},
     "output_type": "execute_result"
    }
   ],
   "source": [
    "vec1"
   ]
  },
  {
   "cell_type": "code",
   "execution_count": 40,
   "metadata": {},
   "outputs": [
    {
     "data": {
      "text/plain": [
       "array([ 0.11831482,  0.3489075 , -0.10745298,  0.08985455,  0.21579672,\n",
       "        0.73384374,  0.5705307 , -0.29559204,  0.18709376,  0.04289744],\n",
       "      dtype=float32)"
      ]
     },
     "execution_count": 40,
     "metadata": {},
     "output_type": "execute_result"
    }
   ],
   "source": [
    "vec2"
   ]
  },
  {
   "cell_type": "code",
   "execution_count": 41,
   "metadata": {},
   "outputs": [
    {
     "data": {
      "image/png": "[encoded data removed]",
      "text/plain": [
       "<Figure size 504x504 with 1 Axes>"
      ]
     },
     "metadata": {
      "needs_background": "light"
     },
     "output_type": "display_data"
    },
    {
     "name": "stdout",
     "output_type": "stream",
     "text": [
      "\n"
     ]
    }
   ],
   "source": [
    "TDF = RDF.sample(2000)\n",
    "\n",
    "y = TDF['DIST'].values\n",
    "x = TDF['COS_SIM'].values\n",
    "\n",
    "fig = plt.figure(figsize=(7,7))\n",
    "plt.scatter(x,y,alpha=0.3)\n",
    "plt.grid() \n",
    "plt.show();\n",
    "\n",
    "print() "
   ]
  },
  {
   "cell_type": "code",
   "execution_count": 42,
   "metadata": {},
   "outputs": [
    {
     "name": "stdout",
     "output_type": "stream",
     "text": [
      "Corelation performance:\n",
      "(Should be negative.)\n",
      "-0.2514379\n"
     ]
    }
   ],
   "source": [
    "corr = CalcCorr(x,y)\n",
    "print('Corelation performance:')\n",
    "print('(Should be negative.)')\n",
    "print(round(corr,7))"
   ]
  },
  {
   "cell_type": "code",
   "execution_count": 43,
   "metadata": {},
   "outputs": [],
   "source": [
    "#############################################################################\n",
    "#############################################################################"
   ]
  },
  {
   "cell_type": "code",
   "execution_count": null,
   "metadata": {},
   "outputs": [],
   "source": []
  },
  {
   "cell_type": "code",
   "execution_count": null,
   "metadata": {},
   "outputs": [],
   "source": []
  },
  {
   "cell_type": "code",
   "execution_count": null,
   "metadata": {},
   "outputs": [],
   "source": []
  },
  {
   "cell_type": "code",
   "execution_count": null,
   "metadata": {},
   "outputs": [],
   "source": []
  },
  {
   "cell_type": "code",
   "execution_count": null,
   "metadata": {},
   "outputs": [],
   "source": []
  },
  {
   "cell_type": "code",
   "execution_count": null,
   "metadata": {},
   "outputs": [],
   "source": []
  },
  {
   "cell_type": "code",
   "execution_count": null,
   "metadata": {},
   "outputs": [],
   "source": []
  },
  {
   "cell_type": "code",
   "execution_count": null,
   "metadata": {},
   "outputs": [],
   "source": []
  },
  {
   "cell_type": "code",
   "execution_count": null,
   "metadata": {},
   "outputs": [],
   "source": []
  },
  {
   "cell_type": "code",
   "execution_count": null,
   "metadata": {},
   "outputs": [],
   "source": []
  },
  {
   "cell_type": "code",
   "execution_count": null,
   "metadata": {},
   "outputs": [],
   "source": []
  }
 ],
 "metadata": {
  "kernelspec": {
   "display_name": "Python 3",
   "language": "python",
   "name": "python3"
  },
  "language_info": {
   "codemirror_mode": {
    "name": "ipython",
    "version": 3
   },
   "file_extension": ".py",
   "mimetype": "text/x-python",
   "name": "python",
   "nbconvert_exporter": "python",
   "pygments_lexer": "ipython3",
   "version": "3.8.8"
  }
 },
 "nbformat": 4,
 "nbformat_minor": 4
}
